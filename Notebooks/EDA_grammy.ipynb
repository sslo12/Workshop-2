{
 "cells": [
  {
   "cell_type": "code",
   "execution_count": 5,
   "metadata": {},
   "outputs": [],
   "source": [
    "import configparser\n",
    "import pymysql\n",
    "import pandas as pd\n",
    "import seaborn as sns\n",
    "import matplotlib.pyplot as plt"
   ]
  },
  {
   "cell_type": "code",
   "execution_count": 10,
   "metadata": {},
   "outputs": [],
   "source": [
    "def create_connection():\n",
    "    config = configparser.ConfigParser()\n",
    "    config.read('../Config_db/config.ini')\n",
    "    host = config['mysql']['host']\n",
    "    user = config['mysql']['user']\n",
    "    password = config['mysql']['password']\n",
    "    database = config['mysql']['database']\n",
    "    try:\n",
    "        conn = pymysql.connect(\n",
    "            host=host,\n",
    "            user=user,\n",
    "            password=password,\n",
    "            database=database\n",
    "        )\n",
    "        print(\"Successful Connection\")\n",
    "        cursor = conn.cursor()\n",
    "        return conn, cursor\n",
    "    except pymysql.Error as e:\n",
    "        print(\"Connection Error:\", e)\n",
    "        return None, None\n",
    "    \n",
    "def query_db(dbname):\n",
    "    conn, cursor = create_connection()\n",
    "    cursor.execute(dbname)\n",
    "    rows = cursor.fetchall()\n",
    "    columns = [desc[0] for desc in cursor.description]\n",
    "    df = pd.DataFrame(rows, columns=columns)\n",
    "    conn.close()\n",
    "    return df"
   ]
  },
  {
   "cell_type": "code",
   "execution_count": 11,
   "metadata": {},
   "outputs": [
    {
     "name": "stdout",
     "output_type": "stream",
     "text": [
      "Successful Connection\n"
     ]
    }
   ],
   "source": [
    "dbname = ('SELECT * FROM grammy')\n",
    "grammy = query_db(dbname)"
   ]
  },
  {
   "cell_type": "code",
   "execution_count": 12,
   "metadata": {},
   "outputs": [
    {
     "name": "stdout",
     "output_type": "stream",
     "text": [
      "<class 'pandas.core.frame.DataFrame'>\n",
      "RangeIndex: 4810 entries, 0 to 4809\n",
      "Data columns (total 10 columns):\n",
      " #   Column        Non-Null Count  Dtype         \n",
      "---  ------        --------------  -----         \n",
      " 0   year          4810 non-null   int64         \n",
      " 1   title         4810 non-null   object        \n",
      " 2   published_at  4810 non-null   datetime64[ns]\n",
      " 3   updated_at    4810 non-null   datetime64[ns]\n",
      " 4   category      4810 non-null   object        \n",
      " 5   nominee       4810 non-null   object        \n",
      " 6   artist        4810 non-null   object        \n",
      " 7   workers       4810 non-null   object        \n",
      " 8   img           4810 non-null   object        \n",
      " 9   winner        4810 non-null   int64         \n",
      "dtypes: datetime64[ns](2), int64(2), object(6)\n",
      "memory usage: 375.9+ KB\n"
     ]
    }
   ],
   "source": [
    "grammy.info()"
   ]
  }
 ],
 "metadata": {
  "kernelspec": {
   "display_name": "base",
   "language": "python",
   "name": "python3"
  },
  "language_info": {
   "codemirror_mode": {
    "name": "ipython",
    "version": 3
   },
   "file_extension": ".py",
   "mimetype": "text/x-python",
   "name": "python",
   "nbconvert_exporter": "python",
   "pygments_lexer": "ipython3",
   "version": "3.11.5"
  }
 },
 "nbformat": 4,
 "nbformat_minor": 2
}
