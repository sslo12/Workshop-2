{
 "cells": [
  {
   "cell_type": "code",
   "execution_count": 9,
   "metadata": {},
   "outputs": [],
   "source": [
    "import configparser\n",
    "import pymysql\n",
    "import csv"
   ]
  },
  {
   "cell_type": "code",
   "execution_count": 10,
   "metadata": {},
   "outputs": [],
   "source": [
    "def create_connection():\n",
    "    config = configparser.ConfigParser()\n",
    "    config.read('../Config_db/config.ini')\n",
    "    host = config['mysql']['host']\n",
    "    user = config['mysql']['user']\n",
    "    password = config['mysql']['password']\n",
    "\n",
    "    try:\n",
    "        conn = pymysql.connect(\n",
    "            host=host,\n",
    "            user=user,\n",
    "            password=password\n",
    "        )\n",
    "        print(\"Successful Connection\")\n",
    "        cursor = conn.cursor()\n",
    "        return conn, cursor\n",
    "    except pymysql.Error as e:\n",
    "        print(\"Connection Error:\", e)\n",
    "        return None, None"
   ]
  },
  {
   "cell_type": "code",
   "execution_count": 11,
   "metadata": {},
   "outputs": [],
   "source": [
    "def load_grammydb(cursor, csv_file):\n",
    "    cursor.execute(\"CREATE DATABASE IF NOT EXISTS grammydb\")\n",
    "    cursor.execute(\"USE grammydb\")\n",
    "    cursor.execute(\"\"\"\n",
    "    CREATE TABLE IF NOT EXISTS grammy (\n",
    "        year INT NOT NULL,\n",
    "        title VARCHAR(255),\n",
    "        published_at DATETIME DEFAULT CURRENT_TIMESTAMP,\n",
    "        updated_at DATETIME DEFAULT CURRENT_TIMESTAMP ON UPDATE CURRENT_TIMESTAMP,\n",
    "        category VARCHAR(255),\n",
    "        nominee VARCHAR(255),\n",
    "        artist VARCHAR(255),\n",
    "        workers VARCHAR(1000),\n",
    "        img TEXT,\n",
    "        winner BOOLEAN\n",
    "    ) \"\"\")\n",
    "\n",
    "    with open(csv_file, 'r') as csvfile:\n",
    "        csv_reader = csv.reader(csvfile)\n",
    "        next(csv_reader)\n",
    "        for row in csv_reader:\n",
    "            year, title, published_at, updated_at, category, nominee, artist, workers, img, winner = row\n",
    "            winner = True if winner.lower() == 'true' else False\n",
    "            sql = \"\"\"\n",
    "            INSERT INTO grammy\n",
    "            (year, title, published_at, updated_at, category, nominee, artist, workers, img, winner)\n",
    "            VALUES (%s, %s, %s, %s, %s, %s, %s, %s, %s, %s)\n",
    "            \"\"\"\n",
    "            cursor.execute(sql, (year, title, published_at, updated_at, category, nominee, artist, workers, img, winner))\n",
    "        print(\"Data inserted successfully!!\")\n"
   ]
  },
  {
   "cell_type": "code",
   "execution_count": 14,
   "metadata": {},
   "outputs": [
    {
     "name": "stdout",
     "output_type": "stream",
     "text": [
      "Connection Error: (2003, 'Can\\'t connect to MySQL server on \\'\"172.30.159.254\"\\' ([Errno 11001] getaddrinfo failed)')\n"
     ]
    },
    {
     "ename": "AttributeError",
     "evalue": "'NoneType' object has no attribute 'execute'",
     "output_type": "error",
     "traceback": [
      "\u001b[1;31m---------------------------------------------------------------------------\u001b[0m",
      "\u001b[1;31mAttributeError\u001b[0m                            Traceback (most recent call last)",
      "Cell \u001b[1;32mIn[14], line 2\u001b[0m\n\u001b[0;32m      1\u001b[0m conn, cursor \u001b[38;5;241m=\u001b[39m create_connection()\n\u001b[1;32m----> 2\u001b[0m load_grammydb(cursor, \u001b[38;5;124m'\u001b[39m\u001b[38;5;124m../Datasets/the_grammy_awards.csv\u001b[39m\u001b[38;5;124m'\u001b[39m)\n\u001b[0;32m      3\u001b[0m conn\u001b[38;5;241m.\u001b[39mcommit()\n\u001b[0;32m      4\u001b[0m conn\u001b[38;5;241m.\u001b[39mclose()\n",
      "Cell \u001b[1;32mIn[11], line 2\u001b[0m, in \u001b[0;36mload_grammydb\u001b[1;34m(cursor, csv_file)\u001b[0m\n\u001b[0;32m      1\u001b[0m \u001b[38;5;28;01mdef\u001b[39;00m \u001b[38;5;21mload_grammydb\u001b[39m(cursor, csv_file):\n\u001b[1;32m----> 2\u001b[0m     cursor\u001b[38;5;241m.\u001b[39mexecute(\u001b[38;5;124m\"\u001b[39m\u001b[38;5;124mCREATE DATABASE IF NOT EXISTS grammydb\u001b[39m\u001b[38;5;124m\"\u001b[39m)\n\u001b[0;32m      3\u001b[0m     cursor\u001b[38;5;241m.\u001b[39mexecute(\u001b[38;5;124m\"\u001b[39m\u001b[38;5;124mUSE grammydb\u001b[39m\u001b[38;5;124m\"\u001b[39m)\n\u001b[0;32m      4\u001b[0m     cursor\u001b[38;5;241m.\u001b[39mexecute(\u001b[38;5;124m\"\"\"\u001b[39m\n\u001b[0;32m      5\u001b[0m \u001b[38;5;124m    CREATE TABLE IF NOT EXISTS grammy (\u001b[39m\n\u001b[0;32m      6\u001b[0m \u001b[38;5;124m        year INT NOT NULL,\u001b[39m\n\u001b[1;32m   (...)\u001b[0m\n\u001b[0;32m     15\u001b[0m \u001b[38;5;124m        winner BOOLEAN\u001b[39m\n\u001b[0;32m     16\u001b[0m \u001b[38;5;124m    ) \u001b[39m\u001b[38;5;124m\"\"\"\u001b[39m)\n",
      "\u001b[1;31mAttributeError\u001b[0m: 'NoneType' object has no attribute 'execute'"
     ]
    }
   ],
   "source": [
    "conn, cursor = create_connection()\n",
    "load_grammydb(cursor, '../Datasets/the_grammy_awards.csv')\n",
    "conn.commit()\n",
    "conn.close()"
   ]
  }
 ],
 "metadata": {
  "kernelspec": {
   "display_name": "base",
   "language": "python",
   "name": "python3"
  },
  "language_info": {
   "codemirror_mode": {
    "name": "ipython",
    "version": 3
   },
   "file_extension": ".py",
   "mimetype": "text/x-python",
   "name": "python",
   "nbconvert_exporter": "python",
   "pygments_lexer": "ipython3",
   "version": "3.11.5"
  }
 },
 "nbformat": 4,
 "nbformat_minor": 2
}
