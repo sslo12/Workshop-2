{
 "cells": [
  {
   "cell_type": "code",
   "execution_count": 1,
   "metadata": {},
   "outputs": [],
   "source": [
    "import configparser\n",
    "import pymysql\n",
    "import csv"
   ]
  },
  {
   "cell_type": "code",
   "execution_count": 2,
   "metadata": {},
   "outputs": [],
   "source": [
    "def create_connection():\n",
    "    config = configparser.ConfigParser()\n",
    "    config.read('config.ini')\n",
    "    host = config['mysql']['host']\n",
    "    user = config['mysql']['user']\n",
    "    password = config['mysql']['password']\n",
    "\n",
    "    try:\n",
    "        conn = pymysql.connect(\n",
    "            host=host,\n",
    "            user=user,\n",
    "            password=password\n",
    "        )\n",
    "        print(\"Successful Connection\")\n",
    "        cursor = conn.cursor()\n",
    "        return conn, cursor\n",
    "    except pymysql.Error as e:\n",
    "        print(\"Connection Error:\", e)\n",
    "        return None, None"
   ]
  },
  {
   "cell_type": "code",
   "execution_count": 3,
   "metadata": {},
   "outputs": [],
   "source": [
    "def load_grammydb(cursor, csv_file):\n",
    "    cursor.execute(\"CREATE DATABASE IF NOT EXISTS grammydb\")\n",
    "    cursor.execute(\"USE grammydb\")\n",
    "    cursor.execute(\"\"\"\n",
    "    CREATE TABLE IF NOT EXISTS grammy (\n",
    "        year INT NOT NULL,\n",
    "        title VARCHAR(255),\n",
    "        published_at DATETIME DEFAULT CURRENT_TIMESTAMP,\n",
    "        updated_at DATETIME DEFAULT CURRENT_TIMESTAMP ON UPDATE CURRENT_TIMESTAMP,\n",
    "        category VARCHAR(255),\n",
    "        nominee VARCHAR(255),\n",
    "        artist VARCHAR(255),\n",
    "        workers VARCHAR(1000),\n",
    "        img TEXT,\n",
    "        winner BOOLEAN\n",
    "    ) \"\"\")\n",
    "\n",
    "    with open(csv_file, 'r') as csvfile:\n",
    "        csv_reader = csv.reader(csvfile)\n",
    "        next(csv_reader)\n",
    "        for row in csv_reader:\n",
    "            year, title, published_at, updated_at, category, nominee, artist, workers, img, winner = row\n",
    "            winner = True if winner.lower() == 'true' else False\n",
    "            sql = \"\"\"\n",
    "            INSERT INTO grammy\n",
    "            (year, title, published_at, updated_at, category, nominee, artist, workers, img, winner)\n",
    "            VALUES (%s, %s, %s, %s, %s, %s, %s, %s, %s, %s)\n",
    "            \"\"\"\n",
    "            cursor.execute(sql, (year, title, published_at, updated_at, category, nominee, artist, workers, img, winner))\n",
    "        print(\"Data inserted successfully!!\")\n"
   ]
  },
  {
   "cell_type": "code",
   "execution_count": 4,
   "metadata": {},
   "outputs": [
    {
     "name": "stdout",
     "output_type": "stream",
     "text": [
      "Successful Connection\n",
      "Data inserted successfully!!\n"
     ]
    }
   ],
   "source": [
    "conn, cursor = create_connection()\n",
    "load_grammydb(cursor, '../Datasets/the_grammy_awards.csv')\n",
    "conn.commit()\n",
    "conn.close()"
   ]
  }
 ],
 "metadata": {
  "kernelspec": {
   "display_name": "base",
   "language": "python",
   "name": "python3"
  },
  "language_info": {
   "codemirror_mode": {
    "name": "ipython",
    "version": 3
   },
   "file_extension": ".py",
   "mimetype": "text/x-python",
   "name": "python",
   "nbconvert_exporter": "python",
   "pygments_lexer": "ipython3",
   "version": "3.11.5"
  }
 },
 "nbformat": 4,
 "nbformat_minor": 2
}
